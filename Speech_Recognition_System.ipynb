# Install required packages
!pip install SpeechRecognition pydub matplotlib
# Import necessary libraries
import speech_recognition as sr
import matplotlib.pyplot as plt
from google.colab import files
from pydub import AudioSegment
import os
def upload_and_convert_audio():
    """
    Upload and convert audio to WAV format for speech recognition.

    Returns:
        str: Path to the converted audio file.
    """
    print("Please upload your audio file (MP3/WAV):")
    uploaded = files.upload()

    if uploaded:
        file_name = list(uploaded.keys())[0]
        print(f"Uploaded file: {file_name}")

        # Convert to WAV if the file is in MP3 format
        if file_name.endswith('.mp3'):
            audio = AudioSegment.from_mp3(file_name)
            wav_file = file_name.replace('.mp3', '.wav')
            audio.export(wav_file, format='wav')
            print(f"Converted '{file_name}' to WAV format.")
        else:
            wav_file = file_name

        return wav_file
    else:
        print("No file uploaded. Please upload an audio file.")
        return None
def speech_to_text(wav_file):
    """
    Convert audio speech to text using SpeechRecognition.

    Args:
        wav_file (str): Path to the WAV audio file.

    Returns:
        str: Recognized text from the audio.
    """
    recognizer = sr.Recognizer()

    # Load audio file
    with sr.AudioFile(wav_file) as source:
        print("Processing audio file...")
        audio_data = recognizer.record(source)

    try:
        # Recognize speech using Google's Speech Recognition API
        text = recognizer.recognize_google(audio_data)
        print(f"Speech Recognized: {text}")
        return text
    except sr.UnknownValueError:
        print("Speech Recognition could not understand the audio.")
        return None
    except sr.RequestError:
        print("Could not request results from Google Speech Recognition service.")
        return None
def save_recognized_text(text, output_file="recognized_text.txt"):
    """
    Save recognized text to a file.

    Args:
        text (str): Recognized text from audio.
        output_file (str): Name of the output file.
    """
    if text:
        with open(output_file, "w") as file:
            file.write(text)
        print(f"Recognized text saved to '{output_file}'.")

        # Download the file in Google Colab
        files.download(output_file)
    else:
        print("No text to save. Recognition was unsuccessful.")
def main():
    """
    Main function to run the Speech Recognition System.
    """
    # Upload and convert audio to WAV
    wav_file = upload_and_convert_audio()

    if wav_file:
        # Convert speech to text
        recognized_text = speech_to_text(wav_file)

        # Save recognized text to file
        save_recognized_text(recognized_text)

        # Clean up - Remove temporary files
        os.remove(wav_file)
        print(f"Temporary file '{wav_file}' deleted.")
if __name__ == "__main__":
    main()


